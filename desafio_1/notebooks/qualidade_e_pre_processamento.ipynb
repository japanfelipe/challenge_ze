{
 "cells": [
  {
   "cell_type": "code",
   "execution_count": 1,
   "metadata": {},
   "outputs": [],
   "source": [
    "# Importar as bibliotecas\n",
    "import pandas as pd\n",
    "from src.paths import DATA_INPUTS_OUTPUTS\n",
    "\n",
    "pd.set_option('display.max_columns', 366)\n",
    "%load_ext autoreload\n",
    "%autoreload 2"
   ]
  },
  {
   "cell_type": "code",
   "execution_count": 2,
   "metadata": {},
   "outputs": [],
   "source": [
    "%config Completer.use_jedi = False"
   ]
  },
  {
   "cell_type": "code",
   "execution_count": 3,
   "metadata": {},
   "outputs": [],
   "source": [
    "# Carregar dados\n",
    "Order_rating_DB = pd.read_excel(DATA_INPUTS_OUTPUTS / 'Data Analyst _ Zé Delivery Data Base.xlsx', sheet_name='Order rating DB')\n",
    "Bad_Rating_reasons = pd.read_excel(DATA_INPUTS_OUTPUTS / 'Data Analyst _ Zé Delivery Data Base.xlsx', sheet_name='Bad Rating reasons')"
   ]
  },
  {
   "cell_type": "code",
   "execution_count": 4,
   "metadata": {},
   "outputs": [
    {
     "name": "stdout",
     "output_type": "stream",
     "text": [
      "<class 'pandas.core.frame.DataFrame'>\n",
      "RangeIndex: 11259 entries, 0 to 11258\n",
      "Data columns (total 13 columns):\n",
      "Order ID               11259 non-null int64\n",
      "Order Number           11259 non-null int64\n",
      "Week                   11259 non-null int64\n",
      "Date & Time            11259 non-null datetime64[ns]\n",
      "Comment                127 non-null object\n",
      "User                   11257 non-null object\n",
      "Merchandise Revenue    11259 non-null float64\n",
      "Payment Method         5990 non-null object\n",
      "POC ID                 11259 non-null int64\n",
      "Rating                 5134 non-null float64\n",
      "Reasons                0 non-null float64\n",
      "Shipping Type          11259 non-null object\n",
      "State                  11239 non-null object\n",
      "dtypes: datetime64[ns](1), float64(3), int64(4), object(5)\n",
      "memory usage: 1.1+ MB\n"
     ]
    }
   ],
   "source": [
    "# Dados sobre o dataset\n",
    "Order_rating_DB.info()"
   ]
  },
  {
   "cell_type": "markdown",
   "metadata": {},
   "source": [
    "- Vamos verificar se há registros repetidos para cada campo\n",
    "- Há dois Users faltando"
   ]
  },
  {
   "cell_type": "code",
   "execution_count": 5,
   "metadata": {},
   "outputs": [
    {
     "data": {
      "text/plain": [
       "Order ID               11259\n",
       "Order Number           11259\n",
       "Week                      45\n",
       "Date & Time            11222\n",
       "Comment                  114\n",
       "User                    7600\n",
       "Merchandise Revenue     2755\n",
       "Payment Method             5\n",
       "POC ID                    51\n",
       "Rating                     6\n",
       "Reasons                    0\n",
       "Shipping Type              3\n",
       "State                     44\n",
       "dtype: int64"
      ]
     },
     "execution_count": 5,
     "metadata": {},
     "output_type": "execute_result"
    }
   ],
   "source": [
    "Order_rating_DB.nunique()"
   ]
  },
  {
   "cell_type": "markdown",
   "metadata": {},
   "source": [
    "- Parece que há clientes que compraram mais de uma vez. Podemos fazer uma análise sobre isso depois.\n",
    "- Uma análise sobre o tipo de pagamento também pode ser feita, porém, há muito registris nulos (assim como em Rating).\n",
    "- Temos muitos campos com estado, uma análise sob este prisma também pode ser feita posteriormente."
   ]
  },
  {
   "cell_type": "code",
   "execution_count": 6,
   "metadata": {},
   "outputs": [
    {
     "data": {
      "text/html": [
       "<div>\n",
       "<style scoped>\n",
       "    .dataframe tbody tr th:only-of-type {\n",
       "        vertical-align: middle;\n",
       "    }\n",
       "\n",
       "    .dataframe tbody tr th {\n",
       "        vertical-align: top;\n",
       "    }\n",
       "\n",
       "    .dataframe thead th {\n",
       "        text-align: right;\n",
       "    }\n",
       "</style>\n",
       "<table border=\"1\" class=\"dataframe\">\n",
       "  <thead>\n",
       "    <tr style=\"text-align: right;\">\n",
       "      <th></th>\n",
       "      <th>Order ID</th>\n",
       "      <th>Order Number</th>\n",
       "      <th>Week</th>\n",
       "      <th>Date &amp; Time</th>\n",
       "      <th>Comment</th>\n",
       "      <th>User</th>\n",
       "      <th>Merchandise Revenue</th>\n",
       "      <th>Payment Method</th>\n",
       "      <th>POC ID</th>\n",
       "      <th>Rating</th>\n",
       "      <th>Reasons</th>\n",
       "      <th>Shipping Type</th>\n",
       "      <th>State</th>\n",
       "    </tr>\n",
       "  </thead>\n",
       "  <tbody>\n",
       "    <tr>\n",
       "      <th>5604</th>\n",
       "      <td>96451</td>\n",
       "      <td>52519903</td>\n",
       "      <td>29</td>\n",
       "      <td>2017-07-14 16:37:49</td>\n",
       "      <td>NaN</td>\n",
       "      <td>NaN</td>\n",
       "      <td>7.416</td>\n",
       "      <td>Dinheiro</td>\n",
       "      <td>21</td>\n",
       "      <td>NaN</td>\n",
       "      <td>NaN</td>\n",
       "      <td>receber</td>\n",
       "      <td>Sao Paulo</td>\n",
       "    </tr>\n",
       "    <tr>\n",
       "      <th>5607</th>\n",
       "      <td>96477</td>\n",
       "      <td>83205118</td>\n",
       "      <td>29</td>\n",
       "      <td>2017-07-14 17:18:54</td>\n",
       "      <td>NaN</td>\n",
       "      <td>NaN</td>\n",
       "      <td>7.656</td>\n",
       "      <td>Dinheiro</td>\n",
       "      <td>66</td>\n",
       "      <td>NaN</td>\n",
       "      <td>NaN</td>\n",
       "      <td>receber</td>\n",
       "      <td>Sao Paulo</td>\n",
       "    </tr>\n",
       "  </tbody>\n",
       "</table>\n",
       "</div>"
      ],
      "text/plain": [
       "      Order ID  Order Number  Week         Date & Time Comment User  \\\n",
       "5604     96451      52519903    29 2017-07-14 16:37:49     NaN  NaN   \n",
       "5607     96477      83205118    29 2017-07-14 17:18:54     NaN  NaN   \n",
       "\n",
       "      Merchandise Revenue Payment Method  POC ID  Rating  Reasons  \\\n",
       "5604                7.416       Dinheiro      21     NaN      NaN   \n",
       "5607                7.656       Dinheiro      66     NaN      NaN   \n",
       "\n",
       "     Shipping Type      State  \n",
       "5604       receber  Sao Paulo  \n",
       "5607       receber  Sao Paulo  "
      ]
     },
     "execution_count": 6,
     "metadata": {},
     "output_type": "execute_result"
    }
   ],
   "source": [
    "# Registro com user faltando\n",
    "Order_rating_DB[Order_rating_DB['User'].isna()]"
   ]
  },
  {
   "cell_type": "markdown",
   "metadata": {},
   "source": [
    "Não parece seguro seguir a análise com estes dois registros. Como não sabemos o que pode levar a ausência deste campo, vamos removê-lo."
   ]
  },
  {
   "cell_type": "code",
   "execution_count": 7,
   "metadata": {},
   "outputs": [],
   "source": [
    "Order_rating_DB.drop(index=[5604,5607], inplace=True)"
   ]
  },
  {
   "cell_type": "code",
   "execution_count": 8,
   "metadata": {},
   "outputs": [
    {
     "data": {
      "text/plain": [
       "[0         1\n",
       " 1         1\n",
       " 2         1\n",
       " 3         1\n",
       " 4         1\n",
       " 5         1\n",
       " 6         1\n",
       " 7         2\n",
       " 8         2\n",
       " 9         2\n",
       " 10        2\n",
       " 11        2\n",
       " 12        2\n",
       " 13        2\n",
       " 14        2\n",
       " 15        2\n",
       " 16        2\n",
       " 17        2\n",
       " 18        2\n",
       " 19        2\n",
       " 20        2\n",
       " 21        2\n",
       " 22        2\n",
       " 23        2\n",
       " 24        2\n",
       " 25        2\n",
       " 26        2\n",
       " 27        2\n",
       " 28        2\n",
       " 29        2\n",
       "          ..\n",
       " 11229    45\n",
       " 11230    45\n",
       " 11231    45\n",
       " 11232    45\n",
       " 11233    45\n",
       " 11234    45\n",
       " 11235    45\n",
       " 11236    45\n",
       " 11237    45\n",
       " 11238    45\n",
       " 11239    45\n",
       " 11240    45\n",
       " 11241    45\n",
       " 11242    45\n",
       " 11243    45\n",
       " 11244    45\n",
       " 11245    45\n",
       " 11246    45\n",
       " 11247    45\n",
       " 11248    45\n",
       " 11249    45\n",
       " 11250    45\n",
       " 11251    45\n",
       " 11252    45\n",
       " 11253    45\n",
       " 11254    45\n",
       " 11255    45\n",
       " 11256    45\n",
       " 11257    45\n",
       " 11258    45\n",
       " Name: Week, Length: 11257, dtype: int64,\n",
       " 0        52\n",
       " 1        52\n",
       " 2        52\n",
       " 3        52\n",
       " 4        52\n",
       " 5        52\n",
       " 6        52\n",
       " 7         1\n",
       " 8         1\n",
       " 9         1\n",
       " 10        1\n",
       " 11        1\n",
       " 12        1\n",
       " 13        1\n",
       " 14        1\n",
       " 15        1\n",
       " 16        1\n",
       " 17        1\n",
       " 18        1\n",
       " 19        1\n",
       " 20        1\n",
       " 21        1\n",
       " 22        1\n",
       " 23        1\n",
       " 24        1\n",
       " 25        1\n",
       " 26        1\n",
       " 27        1\n",
       " 28        1\n",
       " 29        1\n",
       "          ..\n",
       " 11229    44\n",
       " 11230    44\n",
       " 11231    44\n",
       " 11232    44\n",
       " 11233    44\n",
       " 11234    44\n",
       " 11235    44\n",
       " 11236    44\n",
       " 11237    44\n",
       " 11238    44\n",
       " 11239    44\n",
       " 11240    44\n",
       " 11241    44\n",
       " 11242    44\n",
       " 11243    44\n",
       " 11244    44\n",
       " 11245    44\n",
       " 11246    44\n",
       " 11247    44\n",
       " 11248    44\n",
       " 11249    44\n",
       " 11250    44\n",
       " 11251    44\n",
       " 11252    44\n",
       " 11253    44\n",
       " 11254    44\n",
       " 11255    44\n",
       " 11256    44\n",
       " 11257    44\n",
       " 11258    44\n",
       " Name: Date & Time, Length: 11257, dtype: int64]"
      ]
     },
     "execution_count": 8,
     "metadata": {},
     "output_type": "execute_result"
    }
   ],
   "source": [
    "# Vamos verificar se o número da semana está correto\n",
    "[Order_rating_DB['Week'], Order_rating_DB['Date & Time'].dt.week]"
   ]
  },
  {
   "cell_type": "markdown",
   "metadata": {
    "jupyter": {
     "outputs_hidden": true
    }
   },
   "source": [
    "Parece que há um pequeno problema com a primeira semana do ano. Ela não faz parte da semana 1, mas da semana 52. Vamos criar um novo campo com a semana correta."
   ]
  },
  {
   "cell_type": "code",
   "execution_count": 9,
   "metadata": {},
   "outputs": [],
   "source": [
    "Order_rating_DB['CorrectWeek'] = Order_rating_DB['Date & Time'].dt.week"
   ]
  },
  {
   "cell_type": "code",
   "execution_count": 10,
   "metadata": {},
   "outputs": [
    {
     "data": {
      "text/plain": [
       "array([nan, 'Cartão de Débito', 'Cartão de Crédito', 'Dinheiro', 'Débito',\n",
       "       'Crédito'], dtype=object)"
      ]
     },
     "execution_count": 10,
     "metadata": {},
     "output_type": "execute_result"
    }
   ],
   "source": [
    "# Modo de pagamento\n",
    "Order_rating_DB['Payment Method'].unique()"
   ]
  },
  {
   "cell_type": "code",
   "execution_count": 11,
   "metadata": {},
   "outputs": [
    {
     "data": {
      "text/plain": [
       "array([nan, 'Débito', 'Crédito', 'Dinheiro'], dtype=object)"
      ]
     },
     "execution_count": 11,
     "metadata": {},
     "output_type": "execute_result"
    }
   ],
   "source": [
    "# Parece não estar padronizado. Vamos padronizar\n",
    "Order_rating_DB['Payment Method'] = (Order_rating_DB['Payment Method']\n",
    "                                     .replace('Cartão de Crédito', 'Crédito')\n",
    "                                     .replace('Cartão de Débito', 'Débito')\n",
    "                                    )\n",
    "Order_rating_DB['Payment Method'].unique()"
   ]
  },
  {
   "cell_type": "markdown",
   "metadata": {},
   "source": [
    "Vamos olhar o Shipping Type:"
   ]
  },
  {
   "cell_type": "code",
   "execution_count": 12,
   "metadata": {},
   "outputs": [
    {
     "data": {
      "text/plain": [
       "array(['receber', 'retirar', 'agendar'], dtype=object)"
      ]
     },
     "execution_count": 12,
     "metadata": {},
     "output_type": "execute_result"
    }
   ],
   "source": [
    "Order_rating_DB['Shipping Type'].unique()"
   ]
  },
  {
   "cell_type": "code",
   "execution_count": 13,
   "metadata": {},
   "outputs": [
    {
     "data": {
      "text/plain": [
       "receber    9881\n",
       "retirar    1349\n",
       "agendar      27\n",
       "Name: Shipping Type, dtype: int64"
      ]
     },
     "execution_count": 13,
     "metadata": {},
     "output_type": "execute_result"
    }
   ],
   "source": [
    "# O que significa o tipo de registro agendar? Vamos ver quanto representa cada um no total.\n",
    "Order_rating_DB['Shipping Type'].value_counts()"
   ]
  },
  {
   "cell_type": "code",
   "execution_count": 14,
   "metadata": {},
   "outputs": [
    {
     "data": {
      "text/html": [
       "<div>\n",
       "<style scoped>\n",
       "    .dataframe tbody tr th:only-of-type {\n",
       "        vertical-align: middle;\n",
       "    }\n",
       "\n",
       "    .dataframe tbody tr th {\n",
       "        vertical-align: top;\n",
       "    }\n",
       "\n",
       "    .dataframe thead th {\n",
       "        text-align: right;\n",
       "    }\n",
       "</style>\n",
       "<table border=\"1\" class=\"dataframe\">\n",
       "  <thead>\n",
       "    <tr style=\"text-align: right;\">\n",
       "      <th></th>\n",
       "      <th>Order ID</th>\n",
       "      <th>Order Number</th>\n",
       "      <th>Week</th>\n",
       "      <th>Date &amp; Time</th>\n",
       "      <th>Comment</th>\n",
       "      <th>User</th>\n",
       "      <th>Merchandise Revenue</th>\n",
       "      <th>Payment Method</th>\n",
       "      <th>POC ID</th>\n",
       "      <th>Rating</th>\n",
       "      <th>Reasons</th>\n",
       "      <th>Shipping Type</th>\n",
       "      <th>State</th>\n",
       "      <th>CorrectWeek</th>\n",
       "    </tr>\n",
       "  </thead>\n",
       "  <tbody>\n",
       "    <tr>\n",
       "      <th>3958</th>\n",
       "      <td>224206</td>\n",
       "      <td>46885</td>\n",
       "      <td>23</td>\n",
       "      <td>2017-06-03 17:32:47</td>\n",
       "      <td>NaN</td>\n",
       "      <td>user13851gmail.com</td>\n",
       "      <td>29.560</td>\n",
       "      <td>NaN</td>\n",
       "      <td>58</td>\n",
       "      <td>NaN</td>\n",
       "      <td>NaN</td>\n",
       "      <td>agendar</td>\n",
       "      <td>PR</td>\n",
       "      <td>22</td>\n",
       "    </tr>\n",
       "    <tr>\n",
       "      <th>643</th>\n",
       "      <td>196705</td>\n",
       "      <td>19381</td>\n",
       "      <td>8</td>\n",
       "      <td>2017-02-17 12:56:24</td>\n",
       "      <td>NaN</td>\n",
       "      <td>user623gmail.com</td>\n",
       "      <td>210.240</td>\n",
       "      <td>NaN</td>\n",
       "      <td>21</td>\n",
       "      <td>5.0</td>\n",
       "      <td>NaN</td>\n",
       "      <td>agendar</td>\n",
       "      <td>SP</td>\n",
       "      <td>7</td>\n",
       "    </tr>\n",
       "    <tr>\n",
       "      <th>175</th>\n",
       "      <td>192837</td>\n",
       "      <td>15508</td>\n",
       "      <td>4</td>\n",
       "      <td>2017-01-17 07:50:55</td>\n",
       "      <td>NaN</td>\n",
       "      <td>user623gmail.com</td>\n",
       "      <td>210.240</td>\n",
       "      <td>NaN</td>\n",
       "      <td>26</td>\n",
       "      <td>5.0</td>\n",
       "      <td>NaN</td>\n",
       "      <td>agendar</td>\n",
       "      <td>SP</td>\n",
       "      <td>3</td>\n",
       "    </tr>\n",
       "    <tr>\n",
       "      <th>3253</th>\n",
       "      <td>218430</td>\n",
       "      <td>41109</td>\n",
       "      <td>21</td>\n",
       "      <td>2017-05-18 10:58:38</td>\n",
       "      <td>NaN</td>\n",
       "      <td>user11843gmail.com</td>\n",
       "      <td>373.824</td>\n",
       "      <td>NaN</td>\n",
       "      <td>21</td>\n",
       "      <td>5.0</td>\n",
       "      <td>NaN</td>\n",
       "      <td>agendar</td>\n",
       "      <td>SP</td>\n",
       "      <td>20</td>\n",
       "    </tr>\n",
       "    <tr>\n",
       "      <th>4073</th>\n",
       "      <td>225115</td>\n",
       "      <td>47794</td>\n",
       "      <td>24</td>\n",
       "      <td>2017-06-06 12:56:34</td>\n",
       "      <td>NaN</td>\n",
       "      <td>user11157gmail.com</td>\n",
       "      <td>530.832</td>\n",
       "      <td>NaN</td>\n",
       "      <td>21</td>\n",
       "      <td>5.0</td>\n",
       "      <td>NaN</td>\n",
       "      <td>agendar</td>\n",
       "      <td>SP</td>\n",
       "      <td>23</td>\n",
       "    </tr>\n",
       "  </tbody>\n",
       "</table>\n",
       "</div>"
      ],
      "text/plain": [
       "      Order ID  Order Number  Week         Date & Time Comment  \\\n",
       "3958    224206         46885    23 2017-06-03 17:32:47     NaN   \n",
       "643     196705         19381     8 2017-02-17 12:56:24     NaN   \n",
       "175     192837         15508     4 2017-01-17 07:50:55     NaN   \n",
       "3253    218430         41109    21 2017-05-18 10:58:38     NaN   \n",
       "4073    225115         47794    24 2017-06-06 12:56:34     NaN   \n",
       "\n",
       "                    User  Merchandise Revenue Payment Method  POC ID  Rating  \\\n",
       "3958  user13851gmail.com               29.560            NaN      58     NaN   \n",
       "643     user623gmail.com              210.240            NaN      21     5.0   \n",
       "175     user623gmail.com              210.240            NaN      26     5.0   \n",
       "3253  user11843gmail.com              373.824            NaN      21     5.0   \n",
       "4073  user11157gmail.com              530.832            NaN      21     5.0   \n",
       "\n",
       "      Reasons Shipping Type State  CorrectWeek  \n",
       "3958      NaN       agendar    PR           22  \n",
       "643       NaN       agendar    SP            7  \n",
       "175       NaN       agendar    SP            3  \n",
       "3253      NaN       agendar    SP           20  \n",
       "4073      NaN       agendar    SP           23  "
      ]
     },
     "execution_count": 14,
     "metadata": {},
     "output_type": "execute_result"
    }
   ],
   "source": [
    "# Vamos olha melhor ests 27 casos\n",
    "Order_rating_DB[Order_rating_DB['Shipping Type'] == 'agendar'].sample(5)"
   ]
  },
  {
   "cell_type": "markdown",
   "metadata": {},
   "source": [
    "Não sabemos exatamente que tipo de remessa é essa, mas por ora, não vamos remover estes registros."
   ]
  },
  {
   "cell_type": "markdown",
   "metadata": {},
   "source": [
    "Vamos olhar o estado"
   ]
  },
  {
   "cell_type": "code",
   "execution_count": 15,
   "metadata": {},
   "outputs": [
    {
     "data": {
      "text/plain": [
       "array(['SP', 'RJ', 'MG', 'CE', 'PR', 'Campinas', 'São Paulo', 'Fortaleza',\n",
       "       'São José do Rio Preto', 'Rio de Janeiro', 'S',\n",
       "       'São Bernardo do Campo', 'Diadema', 'Belo Horizonte', nan,\n",
       "       'Santo André', 'Curitiba', 'Betim', 'São José dos Campos',\n",
       "       'Nova Iguaçu', 'Niter', 'São Caetano do Sul', 'Nova Igua',\n",
       "       'Niterói', 'Guarulhos', 'Embu', 'Poços de Caldas', 'Santo Andr',\n",
       "       'Itaquaquecetuba', 'Belford Roxo', 'Mesquita', 'Contagem',\n",
       "       'Colombo', 'undefined', 'Osasco', 'Carapicuíba', 'Embu das Artes',\n",
       "       'Taboão da Serra', 'Ferraz de Vasconcelos', 'Pinhais',\n",
       "       'São Carlos', 'Maracanaú', 'Barueri', 'Nova Lima'], dtype=object)"
      ]
     },
     "execution_count": 15,
     "metadata": {},
     "output_type": "execute_result"
    }
   ],
   "source": [
    "Order_rating_DB['State'].unique()"
   ]
  },
  {
   "cell_type": "markdown",
   "metadata": {},
   "source": [
    "Parece que os dados de estado não estão padronizados :(... além disso, há campos nulos e 'undefined'. <p>\n",
    "Vamos ver a participação de tipo de registro estado no total."
   ]
  },
  {
   "cell_type": "code",
   "execution_count": 16,
   "metadata": {},
   "outputs": [
    {
     "data": {
      "text/plain": [
       "SP                       4104\n",
       "São Paulo                2424\n",
       "Rio de Janeiro           1083\n",
       "RJ                        737\n",
       "São Bernardo do Campo     419\n",
       "undefined                 390\n",
       "Belo Horizonte            345\n",
       "Nova Iguaçu               281\n",
       "MG                        277\n",
       "Campinas                  229\n",
       "Diadema                   147\n",
       "S                         112\n",
       "Curitiba                   81\n",
       "CE                         77\n",
       "PR                         74\n",
       "Fortaleza                  73\n",
       "São José do Rio Preto      55\n",
       "Betim                      53\n",
       "Santo André                50\n",
       "Belford Roxo               48\n",
       "São Caetano do Sul         38\n",
       "Contagem                   26\n",
       "Mesquita                   18\n",
       "Osasco                     17\n",
       "Guarulhos                  15\n",
       "Embu das Artes             12\n",
       "São José dos Campos        10\n",
       "Embu                        8\n",
       "Taboão da Serra             7\n",
       "Itaquaquecetuba             6\n",
       "Colombo                     5\n",
       "Poços de Caldas             3\n",
       "Pinhais                     2\n",
       "Niter                       2\n",
       "Nova Igua                   1\n",
       "Niterói                     1\n",
       "São Carlos                  1\n",
       "Maracanaú                   1\n",
       "Santo Andr                  1\n",
       "Nova Lima                   1\n",
       "Barueri                     1\n",
       "Carapicuíba                 1\n",
       "Ferraz de Vasconcelos       1\n",
       "Name: State, dtype: int64"
      ]
     },
     "execution_count": 16,
     "metadata": {},
     "output_type": "execute_result"
    }
   ],
   "source": [
    "Order_rating_DB['State'].value_counts()"
   ]
  },
  {
   "cell_type": "code",
   "execution_count": 17,
   "metadata": {},
   "outputs": [],
   "source": [
    "# Vamos tentar normalizar este campo.\n",
    "Order_rating_DB['CorrectState'] = (Order_rating_DB['State']\n",
    "                                     .map(\n",
    "                                         {'SP':'SP',\n",
    "                                          'São Paulo':'SP',\n",
    "                                          'Rio de Janeiro':'RJ',\n",
    "                                          'RJ':'RJ',\n",
    "                                          'São Bernardo do Campo':'SP',\n",
    "                                          'undefined':'undefined',\n",
    "                                          'Belo Horizonte':'MG',\n",
    "                                          'Nova Iguaçu':'RJ',\n",
    "                                          'MG':'MG',\n",
    "                                          'Campinas':'SP',\n",
    "                                          'Diadema':'SP',\n",
    "                                          'S':'SP',\n",
    "                                          'Curitiba':'PR',\n",
    "                                          'CE':'CE',\n",
    "                                          'PR':'PR',\n",
    "                                          'Fortaleza':'CE',\n",
    "                                          'São José do Rio Preto':'SP',\n",
    "                                          'Betim':'MG',\n",
    "                                          'Santo André':'SP',\n",
    "                                          'Belford Roxo':'RJ',\n",
    "                                          'São Caetano do Sul':'SP',\n",
    "                                          'Contagem':'MG',\n",
    "                                          'Mesquita':'RJ',\n",
    "                                          'Osasco':'SP',\n",
    "                                          'Guarulhos':'SP',\n",
    "                                          'Embu das Artes':'SP',\n",
    "                                          'São José dos Campos':'SP',\n",
    "                                          'Embu':'SP',\n",
    "                                          'Taboão da Serra':'SP',\n",
    "                                          'Itaquaquecetuba':'SP',\n",
    "                                          'Colombo':'PR',\n",
    "                                          'Poços de Caldas':'MG',\n",
    "                                          'Pinhais':'PR',\n",
    "                                          'Niter':'RJ',\n",
    "                                          'São Carlos':'SP',\n",
    "                                          'Ferraz de Vasconcelos':'SP',\n",
    "                                          'Maracanaú':'CE',\n",
    "                                          'Carapicuíba':'SP',\n",
    "                                          'Barueri':'SP',\n",
    "                                          'Nova Lima':'MG',\n",
    "                                          'Niterói':'RJ',\n",
    "                                          'Santo Andr':'SP',\n",
    "                                          'Nova Igua':'RJ'}\n",
    "                                     )\n",
    "                                    )"
   ]
  },
  {
   "cell_type": "code",
   "execution_count": 18,
   "metadata": {},
   "outputs": [
    {
     "data": {
      "text/plain": [
       "array(['SP', 'RJ', 'MG', 'CE', 'PR', nan, 'undefined'], dtype=object)"
      ]
     },
     "execution_count": 18,
     "metadata": {},
     "output_type": "execute_result"
    }
   ],
   "source": [
    "Order_rating_DB['CorrectState'].unique()"
   ]
  },
  {
   "cell_type": "code",
   "execution_count": 19,
   "metadata": {},
   "outputs": [
    {
     "data": {
      "text/plain": [
       "SP           7658\n",
       "RJ           2171\n",
       "MG            705\n",
       "undefined     390\n",
       "PR            162\n",
       "CE            151\n",
       "Name: CorrectState, dtype: int64"
      ]
     },
     "execution_count": 19,
     "metadata": {},
     "output_type": "execute_result"
    }
   ],
   "source": [
    "Order_rating_DB['CorrectState'].value_counts()"
   ]
  },
  {
   "cell_type": "code",
   "execution_count": 20,
   "metadata": {},
   "outputs": [],
   "source": [
    "# Vamos remover os espaços os nomes das colunas\n",
    "columns_name = [x.replace(' ', '') for x in list(Order_rating_DB.columns)]\n",
    "Order_rating_DB.columns = columns_name"
   ]
  },
  {
   "cell_type": "markdown",
   "metadata": {},
   "source": [
    "Agora, vamos salvar estes dados E avançar na análise a partir deles."
   ]
  },
  {
   "cell_type": "code",
   "execution_count": 21,
   "metadata": {},
   "outputs": [],
   "source": [
    "Order_rating_DB.to_csv(DATA_INPUTS_OUTPUTS / 'OrderRatingDB.csv', index=False)"
   ]
  }
 ],
 "metadata": {
  "kernelspec": {
   "display_name": "ze_delivery",
   "language": "python",
   "name": "ze_delivery"
  },
  "language_info": {
   "codemirror_mode": {
    "name": "ipython",
    "version": 3
   },
   "file_extension": ".py",
   "mimetype": "text/x-python",
   "name": "python",
   "nbconvert_exporter": "python",
   "pygments_lexer": "ipython3",
   "version": "3.6.5"
  }
 },
 "nbformat": 4,
 "nbformat_minor": 4
}
