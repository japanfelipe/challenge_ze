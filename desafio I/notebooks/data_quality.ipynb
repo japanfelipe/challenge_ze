{
 "cells": [
  {
   "cell_type": "code",
   "execution_count": 3,
   "metadata": {},
   "outputs": [],
   "source": [
    "import pandas as pd\n",
    "from src.paths import DATA_INPUTS\n",
    "\n",
    "%load_ext autoreload\n",
    "%autoreload 2"
   ]
  },
  {
   "cell_type": "code",
   "execution_count": 5,
   "metadata": {},
   "outputs": [],
   "source": [
    "Order_rating_DB = pd.read_excel(DATA_INPUTS / 'Data Analyst _ Zé Delivery Data Base.xlsx', sheet_name='Order rating DB')\n",
    "Bad_Rating_reasons = pd.read_excel(DATA_INPUTS / 'Data Analyst _ Zé Delivery Data Base.xlsx', sheet_name='Bad Rating reasons')\n",
    "Rating_email_data = pd.read_excel(DATA_INPUTS / 'Data Analyst _ Zé Delivery Data Base.xlsx', sheet_name='Rating e-mail data')"
   ]
  },
  {
   "cell_type": "code",
   "execution_count": 6,
   "metadata": {},
   "outputs": [
    {
     "data": {
      "text/html": [
       "<div>\n",
       "<style scoped>\n",
       "    .dataframe tbody tr th:only-of-type {\n",
       "        vertical-align: middle;\n",
       "    }\n",
       "\n",
       "    .dataframe tbody tr th {\n",
       "        vertical-align: top;\n",
       "    }\n",
       "\n",
       "    .dataframe thead th {\n",
       "        text-align: right;\n",
       "    }\n",
       "</style>\n",
       "<table border=\"1\" class=\"dataframe\">\n",
       "  <thead>\n",
       "    <tr style=\"text-align: right;\">\n",
       "      <th></th>\n",
       "      <th>Origem de acesso ao site</th>\n",
       "      <th>Mês do ano</th>\n",
       "      <th>Visitas no Site</th>\n",
       "      <th>Transações</th>\n",
       "    </tr>\n",
       "  </thead>\n",
       "  <tbody>\n",
       "    <tr>\n",
       "      <th>0</th>\n",
       "      <td>EmailAvaliacao / EmailTransacional</td>\n",
       "      <td>11</td>\n",
       "      <td>91</td>\n",
       "      <td>29</td>\n",
       "    </tr>\n",
       "    <tr>\n",
       "      <th>1</th>\n",
       "      <td>EmailAvaliacao / EmailTransacional</td>\n",
       "      <td>10</td>\n",
       "      <td>253</td>\n",
       "      <td>58</td>\n",
       "    </tr>\n",
       "    <tr>\n",
       "      <th>2</th>\n",
       "      <td>EmailAvaliacao / EmailTransacional</td>\n",
       "      <td>9</td>\n",
       "      <td>514</td>\n",
       "      <td>87</td>\n",
       "    </tr>\n",
       "    <tr>\n",
       "      <th>3</th>\n",
       "      <td>EmailAvaliacao / EmailTransacional</td>\n",
       "      <td>8</td>\n",
       "      <td>819</td>\n",
       "      <td>146</td>\n",
       "    </tr>\n",
       "    <tr>\n",
       "      <th>4</th>\n",
       "      <td>EmailAvaliacao / EmailTransacional</td>\n",
       "      <td>7</td>\n",
       "      <td>1396</td>\n",
       "      <td>301</td>\n",
       "    </tr>\n",
       "    <tr>\n",
       "      <th>5</th>\n",
       "      <td>EmailAvaliacao / EmailTransacional</td>\n",
       "      <td>6</td>\n",
       "      <td>1756</td>\n",
       "      <td>200</td>\n",
       "    </tr>\n",
       "    <tr>\n",
       "      <th>6</th>\n",
       "      <td>EmailAvaliacao / EmailTransacional</td>\n",
       "      <td>5</td>\n",
       "      <td>2379</td>\n",
       "      <td>169</td>\n",
       "    </tr>\n",
       "    <tr>\n",
       "      <th>7</th>\n",
       "      <td>EmailAvaliacao / EmailTransacional</td>\n",
       "      <td>4</td>\n",
       "      <td>2574</td>\n",
       "      <td>175</td>\n",
       "    </tr>\n",
       "    <tr>\n",
       "      <th>8</th>\n",
       "      <td>EmailAvaliacao / EmailTransacional</td>\n",
       "      <td>3</td>\n",
       "      <td>1559</td>\n",
       "      <td>112</td>\n",
       "    </tr>\n",
       "    <tr>\n",
       "      <th>9</th>\n",
       "      <td>EmailAvaliacao / EmailTransacional</td>\n",
       "      <td>2</td>\n",
       "      <td>1176</td>\n",
       "      <td>66</td>\n",
       "    </tr>\n",
       "  </tbody>\n",
       "</table>\n",
       "</div>"
      ],
      "text/plain": [
       "             Origem de acesso ao site  Mês do ano  Visitas no Site  Transações\n",
       "0  EmailAvaliacao / EmailTransacional          11               91          29\n",
       "1  EmailAvaliacao / EmailTransacional          10              253          58\n",
       "2  EmailAvaliacao / EmailTransacional           9              514          87\n",
       "3  EmailAvaliacao / EmailTransacional           8              819         146\n",
       "4  EmailAvaliacao / EmailTransacional           7             1396         301\n",
       "5  EmailAvaliacao / EmailTransacional           6             1756         200\n",
       "6  EmailAvaliacao / EmailTransacional           5             2379         169\n",
       "7  EmailAvaliacao / EmailTransacional           4             2574         175\n",
       "8  EmailAvaliacao / EmailTransacional           3             1559         112\n",
       "9  EmailAvaliacao / EmailTransacional           2             1176          66"
      ]
     },
     "execution_count": 6,
     "metadata": {},
     "output_type": "execute_result"
    }
   ],
   "source": [
    "Rating_email_data"
   ]
  }
 ],
 "metadata": {
  "kernelspec": {
   "display_name": "ze_delivery",
   "language": "python",
   "name": "ze_delivery"
  },
  "language_info": {
   "codemirror_mode": {
    "name": "ipython",
    "version": 3
   },
   "file_extension": ".py",
   "mimetype": "text/x-python",
   "name": "python",
   "nbconvert_exporter": "python",
   "pygments_lexer": "ipython3",
   "version": "3.6.5"
  }
 },
 "nbformat": 4,
 "nbformat_minor": 4
}
